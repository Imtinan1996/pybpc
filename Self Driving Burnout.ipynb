{
 "cells": [
  {
   "cell_type": "markdown",
   "metadata": {},
   "source": [
    "# Training and running an autonomous car on Burnout Paradise City\n",
    "\n",
    "###### References:\n",
    "This is an attempt to replicate the work done by sentdex on using ai to create a self driving car in GTA V, his tutorial can be found out:\n",
    "    [Youtube]: https://www.youtube.com/playlist?list=PLQVvvaa0QuDeETZEOy4VdocT7TOjfSA8a\n",
    "    [GitHub] : https://github.com/Sentdex/pygta5\n",
    "    \n",
    "To start off lets have a look at the pre requisites:\n",
    "\n",
    "    * Tensorflow / Tflearn (preffer with GPU supprort)\n",
    "    * A game in windowed mode\n",
    "    * Specific python libraries\n",
    "    \n",
    "This will work on Windows / Linux / Mac OSX, but this project was created and run on windows"
   ]
  },
  {
   "cell_type": "markdown",
   "metadata": {},
   "source": [
    "##### Getting Started\n",
    "\n",
    "I used Burnout Paradise City, to create a self driving car\n",
    "Theoretically any game that is able to take input can be used for this process\n",
    "\n",
    "###### Things to look out for:\n",
    "You would want to choose a game that minimizes the HUD on the screen, best if it can even be switched off\n",
    "It would also be necesarry that a car view can be obtained during the driving process, for example, burnout gives a choice between the following views\n",
    "\n",
    "##### External View\n",
    "\n",
    "<img src=\"images/external-view.png\">\n",
    "\n",
    "##### Car View\n",
    "\n",
    "<img src=\"images/car-view.png\">\n",
    "\n",
    "This simple change can be carried out in the game by just pressing the 'C' key, you may explore the in game settings for a possible change\n",
    "\n",
    "Windowed View:\n",
    "It is necesarry for the game to be in a windowed mode so you may work alongside the game and aactually visuialize everything goiing on.\n",
    "\n",
    "The windowed mode was not supported in Burnout, and most likely isnt in older games, to bring it into windowed mode i had to take aid of a thir party app known as DXWnd that puts games into windowed mode. This seemed to solve the problem\n",
    "\n",
    "If you haave a similar issue, this may help (http://www.play-old-pc-games.com/compatibility-tools/using-dxwnd/)\n",
    "\n",
    "Thats pretty mmuch it, now we can get started"
   ]
  },
  {
   "cell_type": "markdown",
   "metadata": {},
   "source": [
    "### The Process\n",
    "\n",
    "we can simlify the aut0nomous vehicle creating into some simple steps\n",
    "\n",
    "    * Get python to grab screens\n",
    "    * Get python to issue commands to the game\n",
    "    * Get python to detect key presses by you\n",
    "    * Create (or in our case, use) a Regressor Neural Net for predictions\n",
    "    * Play the game and have python store the image and the keys input by you as train data\n",
    "    * Fit the model\n",
    "    * Use live feed to predict the keys on runtime and actually move the car\n",
    "    \n",
    "Detailed explanation of the code can be found at sentdex's video series: https://www.youtube.com/playlist?list=PLQVvvaa0QuDeETZEOy4VdocT7TOjfSA8a \n",
    "\n",
    "The code was take from his tutorial, and can be found at the following links:"
   ]
  },
  {
   "cell_type": "markdown",
   "metadata": {},
   "source": [
    "###### Grabbing the screens: https://github.com/Sentdex/pygta5/blob/master/grabscreen.py\n",
    "###### Issuing commands: https://github.com/Sentdex/pygta5/blob/master/directkeys.py\n",
    "###### Detect key presses: https://github.com/Sentdex/pygta5/blob/master/getkeys.py\n",
    "###### The neural net: https://github.com/Sentdex/pygta5/blob/master/Tutorial%20Codes/Part%208-13%20code/alexnet.py\n",
    "###### Create training data: https://github.com/Sentdex/pygta5/blob/master/Tutorial%20Codes/Part%208-13%20code/create_training_data.py\n",
    "###### Fitting model: \n",
    "    (o) https://github.com/Sentdex/pygta5/blob/master/Tutorial%20Codes/Part%208-13%20code/train_model.py\n",
    "    (o) https://github.com/Sentdex/pygta5/blob/master/Tutorial%20Codes/Part%208-13%20code/balance_data.py\n",
    "###### Using the model: https://github.com/Sentdex/pygta5/blob/master/Tutorial%20Codes/Part%208-13%20code/test_model.py"
   ]
  },
  {
   "cell_type": "code",
   "execution_count": null,
   "metadata": {
    "collapsed": true
   },
   "outputs": [],
   "source": []
  }
 ],
 "metadata": {
  "kernelspec": {
   "display_name": "Python 3",
   "language": "python",
   "name": "python3"
  },
  "language_info": {
   "codemirror_mode": {
    "name": "ipython",
    "version": 3
   },
   "file_extension": ".py",
   "mimetype": "text/x-python",
   "name": "python",
   "nbconvert_exporter": "python",
   "pygments_lexer": "ipython3",
   "version": "3.6.1"
  }
 },
 "nbformat": 4,
 "nbformat_minor": 2
}
